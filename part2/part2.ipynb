{
  "nbformat": 4,
  "nbformat_minor": 0,
  "metadata": {
    "colab": {
      "name": "word2vec part2.ipynb",
      "provenance": [],
      "collapsed_sections": []
    },
    "kernelspec": {
      "name": "python3",
      "display_name": "Python 3"
    }
  },
  "cells": [
    {
      "cell_type": "code",
      "metadata": {
        "id": "9GXrxSoKg3Ix",
        "colab_type": "code",
        "colab": {}
      },
      "source": [
        "import warnings\n",
        "warnings.filterwarnings(\"ignore\")"
      ],
      "execution_count": 0,
      "outputs": []
    },
    {
      "cell_type": "code",
      "metadata": {
        "id": "j7XRzBF2gtVm",
        "colab_type": "code",
        "colab": {}
      },
      "source": [
        "import numpy as np\n",
        "\n",
        "from gensim.models.word2vec import Word2Vec\n",
        "import gensim.downloader as api  "
      ],
      "execution_count": 0,
      "outputs": []
    },
    {
      "cell_type": "code",
      "metadata": {
        "id": "KvLeE0SVlwtf",
        "colab_type": "code",
        "colab": {}
      },
      "source": [
        "# download the corpus\n",
        "# text8: English Wikipedia data (10^8 bytes)\n",
        "corpus = api.load('text8')"
      ],
      "execution_count": 0,
      "outputs": []
    },
    {
      "cell_type": "code",
      "metadata": {
        "id": "qNzj-1g_N1uK",
        "colab_type": "code",
        "colab": {}
      },
      "source": [
        "# train a model from the corpus\n",
        "# default: CBOW, sg=1: skipgram\n",
        "model = Word2Vec(corpus) \n",
        "#model = Word2Vec(corpus, sg=1) "
      ],
      "execution_count": 0,
      "outputs": []
    },
    {
      "cell_type": "code",
      "metadata": {
        "id": "-2ARnwQll4bE",
        "colab_type": "code",
        "colab": {
          "base_uri": "https://localhost:8080/",
          "height": 474
        },
        "outputId": "ded0026d-15ac-4988-f324-603259ec89cc"
      },
      "source": [
        "# print the embedding of 'car'\n",
        "model.wv['car']"
      ],
      "execution_count": 5,
      "outputs": [
        {
          "output_type": "execute_result",
          "data": {
            "text/plain": [
              "array([-1.2336967e-01,  2.3349621e+00, -2.5789957e+00, -1.4936075e-03,\n",
              "       -1.1571783e+00,  1.2974693e-02, -6.5792751e-01,  2.4331410e-01,\n",
              "        1.1009966e+00, -3.0955737e+00, -1.1771249e+00,  4.7848421e-01,\n",
              "        1.0975776e+00,  2.3817854e+00, -1.9005924e-02,  8.1492996e-01,\n",
              "       -3.8511643e-01,  2.3660116e-01,  1.1585400e+00, -1.6548200e-01,\n",
              "       -5.6396967e-01,  1.2899245e+00, -6.3781476e-01, -7.2922981e-01,\n",
              "       -3.6318001e-01, -5.1163483e-02,  1.1178578e+00,  6.2748861e-01,\n",
              "       -1.5576749e+00, -2.5384536e+00, -2.4012864e+00, -1.4749491e+00,\n",
              "       -1.2569902e+00,  3.8223159e-01, -9.8462617e-01,  3.2130909e-01,\n",
              "        4.8485208e-01,  1.8330921e-01,  1.1658611e+00,  2.6140552e+00,\n",
              "       -1.2221446e+00,  7.4932921e-01,  2.3291435e+00, -8.1742764e-01,\n",
              "        2.9760981e-01,  1.9169910e-01, -1.8494940e+00, -1.1737701e+00,\n",
              "       -1.2773210e+00,  9.7868949e-01,  1.7844061e+00,  1.3263942e+00,\n",
              "       -2.1199884e-01,  1.8347038e+00,  1.0059011e+00, -4.3503872e-01,\n",
              "       -1.1839623e-01, -4.4766340e-01,  2.1327300e-02,  1.4799423e+00,\n",
              "       -1.5784013e+00, -1.0870105e+00,  2.4061236e-01, -2.8376999e+00,\n",
              "       -1.0302976e+00,  1.3876055e+00, -1.2277597e+00, -9.9317841e-02,\n",
              "        8.9288729e-01, -6.8723357e-01,  1.8335958e+00, -5.0872469e-01,\n",
              "        8.1485814e-01, -9.6708030e-01,  2.2177730e+00,  4.9994206e-01,\n",
              "        7.0957226e-01, -5.0585783e-01,  6.4524269e-01,  2.5412621e+00,\n",
              "       -1.3252567e+00,  2.9241276e+00,  1.7773327e+00, -2.8949156e+00,\n",
              "        1.1196980e+00, -3.0128648e+00, -8.6903381e-01, -1.2400672e+00,\n",
              "       -1.8079021e+00,  3.8686711e-01, -4.6588898e-01, -4.2896912e-01,\n",
              "        1.2934359e+00, -7.8635013e-01, -2.7338665e+00, -9.6045136e-02,\n",
              "        1.4381526e-01, -9.1219538e-01,  9.2888135e-01,  1.6495678e+00],\n",
              "      dtype=float32)"
            ]
          },
          "metadata": {
            "tags": []
          },
          "execution_count": 5
        }
      ]
    },
    {
      "cell_type": "code",
      "metadata": {
        "id": "zqqu_fKiN2_I",
        "colab_type": "code",
        "colab": {
          "base_uri": "https://localhost:8080/",
          "height": 193
        },
        "outputId": "d80de9bd-63a9-4cd8-aafd-ad7607b33f58"
      },
      "source": [
        "# print the 10 most similar words of 'car' based on cosine similarity\n",
        "output = model.wv.most_similar('car')\n",
        "output = np.array(output)\n",
        "\n",
        "print(output)"
      ],
      "execution_count": 6,
      "outputs": [
        {
          "output_type": "stream",
          "text": [
            "[['driver' '0.8218835592269897']\n",
            " ['taxi' '0.7314202189445496']\n",
            " ['motorcycle' '0.7166621685028076']\n",
            " ['cars' '0.7159453630447388']\n",
            " ['truck' '0.7011751532554626']\n",
            " ['vehicle' '0.6931060552597046']\n",
            " ['racing' '0.657031774520874']\n",
            " ['passenger' '0.6439279317855835']\n",
            " ['glider' '0.6384867429733276']\n",
            " ['manufacturer' '0.6347852945327759']]\n"
          ],
          "name": "stdout"
        }
      ]
    },
    {
      "cell_type": "code",
      "metadata": {
        "id": "iCPLvFsJ0RZb",
        "colab_type": "code",
        "colab": {
          "base_uri": "https://localhost:8080/",
          "height": 70
        },
        "outputId": "c040b8d9-a93b-4bc2-a1b7-30a878b73051"
      },
      "source": [
        "# print the similairty between two words\n",
        "print('car', '- driver:', model.wv.similarity('car', 'driver'))\n",
        "print('car', '- water:', model.wv.similarity('car', 'water'))\n",
        "print('fish', '- water:', model.wv.similarity('fish', 'water'))"
      ],
      "execution_count": 7,
      "outputs": [
        {
          "output_type": "stream",
          "text": [
            "car - driver: 0.8218835\n",
            "car - water: 0.12610441\n",
            "fish - water: 0.5410622\n"
          ],
          "name": "stdout"
        }
      ]
    },
    {
      "cell_type": "code",
      "metadata": {
        "id": "A_fPIobSmJ1O",
        "colab_type": "code",
        "colab": {}
      },
      "source": [
        "# save and reload the model\n",
        "model.save('newmodel')\n",
        "model = Word2Vec.load('newmodel')"
      ],
      "execution_count": 0,
      "outputs": []
    },
    {
      "cell_type": "code",
      "metadata": {
        "id": "uYScn4KQqFfi",
        "colab_type": "code",
        "colab": {
          "base_uri": "https://localhost:8080/",
          "height": 193
        },
        "outputId": "15dbf678-46c7-479b-c141-639454c45e77"
      },
      "source": [
        "vector = model.wv['woman'] - model.wv['man'] + model.wv['king']\n",
        "output = model.wv.similar_by_vector(vector)\n",
        "output = np.array(output)\n",
        "\n",
        "print(output)"
      ],
      "execution_count": 9,
      "outputs": [
        {
          "output_type": "stream",
          "text": [
            "[['king' '0.8556390404701233']\n",
            " ['queen' '0.6972125768661499']\n",
            " ['prince' '0.670824408531189']\n",
            " ['throne' '0.6293470859527588']\n",
            " ['jadwiga' '0.6111705303192139']\n",
            " ['regent' '0.6057455539703369']\n",
            " ['kings' '0.605370044708252']\n",
            " ['elizabeth' '0.6042450666427612']\n",
            " ['empress' '0.6026627421379089']\n",
            " ['son' '0.6023257970809937']]\n"
          ],
          "name": "stdout"
        }
      ]
    }
  ]
}