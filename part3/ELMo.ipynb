{
  "nbformat": 4,
  "nbformat_minor": 0,
  "metadata": {
    "colab": {
      "name": "ELMo.ipynb",
      "provenance": []
    },
    "kernelspec": {
      "name": "python3",
      "display_name": "Python 3"
    }
  },
  "cells": [
    {
      "cell_type": "code",
      "metadata": {
        "id": "If3NrtT6cW26",
        "colab_type": "code",
        "colab": {
          "base_uri": "https://localhost:8080/",
          "height": 1000
        },
        "outputId": "6a89e59b-7e5e-40f3-b4f3-7781df52dec1"
      },
      "source": [
        "# This tutorial is based on the following tutorial\n",
        "# Webpage: https://towardsdatascience.com/visualizing-elmo-contextual-vectors-94168768fdaa\n",
        "# Git-repo: https://github.com/hengluchang/visualizing_contextual_vectors/blob/master/elmo_vis.py\n",
        "!pip install allennlp"
      ],
      "execution_count": 49,
      "outputs": [
        {
          "output_type": "stream",
          "text": [
            "Collecting allennlp\n",
            "\u001b[?25l  Downloading https://files.pythonhosted.org/packages/bb/bb/041115d8bad1447080e5d1e30097c95e4b66e36074277afce8620a61cee3/allennlp-0.9.0-py3-none-any.whl (7.6MB)\n",
            "\u001b[K     |████████████████████████████████| 7.6MB 4.8MB/s \n",
            "\u001b[?25hRequirement already satisfied: pytz>=2017.3 in /usr/local/lib/python3.6/dist-packages (from allennlp) (2018.9)\n",
            "Requirement already satisfied: requests>=2.18 in /usr/local/lib/python3.6/dist-packages (from allennlp) (2.21.0)\n",
            "Requirement already satisfied: nltk in /usr/local/lib/python3.6/dist-packages (from allennlp) (3.2.5)\n",
            "Collecting flaky (from allennlp)\n",
            "  Downloading https://files.pythonhosted.org/packages/fe/12/0f169abf1aa07c7edef4855cca53703d2e6b7ecbded7829588ac7e7e3424/flaky-3.6.1-py2.py3-none-any.whl\n",
            "Requirement already satisfied: scikit-learn in /usr/local/lib/python3.6/dist-packages (from allennlp) (0.21.3)\n",
            "Requirement already satisfied: torch>=1.2.0 in /usr/local/lib/python3.6/dist-packages (from allennlp) (1.2.0)\n",
            "Requirement already satisfied: numpy in /usr/local/lib/python3.6/dist-packages (from allennlp) (1.16.5)\n",
            "Requirement already satisfied: matplotlib>=2.2.3 in /usr/local/lib/python3.6/dist-packages (from allennlp) (3.0.3)\n",
            "Requirement already satisfied: h5py in /usr/local/lib/python3.6/dist-packages (from allennlp) (2.8.0)\n",
            "Collecting jsonpickle (from allennlp)\n",
            "  Downloading https://files.pythonhosted.org/packages/07/07/c157520a3ebd166c8c24c6ae0ecae7c3968eb4653ff0e5af369bb82f004d/jsonpickle-1.2-py2.py3-none-any.whl\n",
            "Requirement already satisfied: flask>=1.0.2 in /usr/local/lib/python3.6/dist-packages (from allennlp) (1.1.1)\n",
            "Requirement already satisfied: boto3 in /usr/local/lib/python3.6/dist-packages (from allennlp) (1.9.236)\n",
            "Collecting pytorch-pretrained-bert>=0.6.0 (from allennlp)\n",
            "\u001b[?25l  Downloading https://files.pythonhosted.org/packages/d7/e0/c08d5553b89973d9a240605b9c12404bcf8227590de62bae27acbcfe076b/pytorch_pretrained_bert-0.6.2-py3-none-any.whl (123kB)\n",
            "\u001b[K     |████████████████████████████████| 133kB 46.8MB/s \n",
            "\u001b[?25hRequirement already satisfied: editdistance in /usr/local/lib/python3.6/dist-packages (from allennlp) (0.5.3)\n",
            "Requirement already satisfied: pytest in /usr/local/lib/python3.6/dist-packages (from allennlp) (3.6.4)\n",
            "Collecting conllu==1.3.1 (from allennlp)\n",
            "  Downloading https://files.pythonhosted.org/packages/ae/54/b0ae1199f3d01666821b028cd967f7c0ac527ab162af433d3da69242cea2/conllu-1.3.1-py2.py3-none-any.whl\n",
            "Requirement already satisfied: spacy<2.2,>=2.1.0 in /usr/local/lib/python3.6/dist-packages (from allennlp) (2.1.8)\n",
            "Collecting overrides (from allennlp)\n",
            "  Downloading https://files.pythonhosted.org/packages/de/55/3100c6d14c1ed177492fcf8f07c4a7d2d6c996c0a7fc6a9a0a41308e7eec/overrides-1.9.tar.gz\n",
            "Collecting tensorboardX>=1.2 (from allennlp)\n",
            "\u001b[?25l  Downloading https://files.pythonhosted.org/packages/c3/12/dcaf67e1312475b26db9e45e7bb6f32b540671a9ee120b3a72d9e09bc517/tensorboardX-1.8-py2.py3-none-any.whl (216kB)\n",
            "\u001b[K     |████████████████████████████████| 225kB 28.8MB/s \n",
            "\u001b[?25hCollecting ftfy (from allennlp)\n",
            "\u001b[?25l  Downloading https://files.pythonhosted.org/packages/75/ca/2d9a5030eaf1bcd925dab392762b9709a7ad4bd486a90599d93cd79cb188/ftfy-5.6.tar.gz (58kB)\n",
            "\u001b[K     |████████████████████████████████| 61kB 24.1MB/s \n",
            "\u001b[?25hCollecting word2number>=1.1 (from allennlp)\n",
            "  Downloading https://files.pythonhosted.org/packages/4a/29/a31940c848521f0725f0df6b25dca8917f13a2025b0e8fcbe5d0457e45e6/word2number-1.1.zip\n",
            "Collecting flask-cors>=3.0.7 (from allennlp)\n",
            "  Downloading https://files.pythonhosted.org/packages/78/38/e68b11daa5d613e3a91e4bf3da76c94ac9ee0d9cd515af9c1ab80d36f709/Flask_Cors-3.0.8-py2.py3-none-any.whl\n",
            "Collecting numpydoc>=0.8.0 (from allennlp)\n",
            "  Downloading https://files.pythonhosted.org/packages/6a/f3/7cfe4c616e4b9fe05540256cc9c6661c052c8a4cec2915732793b36e1843/numpydoc-0.9.1.tar.gz\n",
            "Collecting pytorch-transformers==1.1.0 (from allennlp)\n",
            "\u001b[?25l  Downloading https://files.pythonhosted.org/packages/50/89/ad0d6bb932d0a51793eaabcf1617a36ff530dc9ab9e38f765a35dc293306/pytorch_transformers-1.1.0-py3-none-any.whl (158kB)\n",
            "\u001b[K     |████████████████████████████████| 163kB 41.3MB/s \n",
            "\u001b[?25hRequirement already satisfied: tqdm>=4.19 in /usr/local/lib/python3.6/dist-packages (from allennlp) (4.28.1)\n",
            "Requirement already satisfied: gevent>=1.3.6 in /usr/local/lib/python3.6/dist-packages (from allennlp) (1.4.0)\n",
            "Collecting parsimonious>=0.8.0 (from allennlp)\n",
            "\u001b[?25l  Downloading https://files.pythonhosted.org/packages/02/fc/067a3f89869a41009e1a7cdfb14725f8ddd246f30f63c645e8ef8a1c56f4/parsimonious-0.8.1.tar.gz (45kB)\n",
            "\u001b[K     |████████████████████████████████| 51kB 18.7MB/s \n",
            "\u001b[?25hCollecting jsonnet>=0.10.0; sys_platform != \"win32\" (from allennlp)\n",
            "\u001b[?25l  Downloading https://files.pythonhosted.org/packages/fe/a6/e69e38f1f259fcf8532d8bd2c4bc88764f42d7b35a41423a7f4b035cc5ce/jsonnet-0.14.0.tar.gz (253kB)\n",
            "\u001b[K     |████████████████████████████████| 256kB 40.2MB/s \n",
            "\u001b[?25hRequirement already satisfied: sqlparse>=0.2.4 in /usr/local/lib/python3.6/dist-packages (from allennlp) (0.3.0)\n",
            "Collecting unidecode (from allennlp)\n",
            "\u001b[?25l  Downloading https://files.pythonhosted.org/packages/d0/42/d9edfed04228bacea2d824904cae367ee9efd05e6cce7ceaaedd0b0ad964/Unidecode-1.1.1-py2.py3-none-any.whl (238kB)\n",
            "\u001b[K     |████████████████████████████████| 245kB 34.9MB/s \n",
            "\u001b[?25hRequirement already satisfied: scipy in /usr/local/lib/python3.6/dist-packages (from allennlp) (1.3.1)\n",
            "Collecting responses>=0.7 (from allennlp)\n",
            "  Downloading https://files.pythonhosted.org/packages/d1/5a/b887e89925f1de7890ef298a74438371ed4ed29b33def9e6d02dc6036fd8/responses-0.10.6-py2.py3-none-any.whl\n",
            "Requirement already satisfied: urllib3<1.25,>=1.21.1 in /usr/local/lib/python3.6/dist-packages (from requests>=2.18->allennlp) (1.24.3)\n",
            "Requirement already satisfied: certifi>=2017.4.17 in /usr/local/lib/python3.6/dist-packages (from requests>=2.18->allennlp) (2019.9.11)\n",
            "Requirement already satisfied: chardet<3.1.0,>=3.0.2 in /usr/local/lib/python3.6/dist-packages (from requests>=2.18->allennlp) (3.0.4)\n",
            "Requirement already satisfied: idna<2.9,>=2.5 in /usr/local/lib/python3.6/dist-packages (from requests>=2.18->allennlp) (2.8)\n",
            "Requirement already satisfied: six in /usr/local/lib/python3.6/dist-packages (from nltk->allennlp) (1.12.0)\n",
            "Requirement already satisfied: joblib>=0.11 in /usr/local/lib/python3.6/dist-packages (from scikit-learn->allennlp) (0.13.2)\n",
            "Requirement already satisfied: kiwisolver>=1.0.1 in /usr/local/lib/python3.6/dist-packages (from matplotlib>=2.2.3->allennlp) (1.1.0)\n",
            "Requirement already satisfied: pyparsing!=2.0.4,!=2.1.2,!=2.1.6,>=2.0.1 in /usr/local/lib/python3.6/dist-packages (from matplotlib>=2.2.3->allennlp) (2.4.2)\n",
            "Requirement already satisfied: python-dateutil>=2.1 in /usr/local/lib/python3.6/dist-packages (from matplotlib>=2.2.3->allennlp) (2.5.3)\n",
            "Requirement already satisfied: cycler>=0.10 in /usr/local/lib/python3.6/dist-packages (from matplotlib>=2.2.3->allennlp) (0.10.0)\n",
            "Requirement already satisfied: click>=5.1 in /usr/local/lib/python3.6/dist-packages (from flask>=1.0.2->allennlp) (7.0)\n",
            "Requirement already satisfied: Jinja2>=2.10.1 in /usr/local/lib/python3.6/dist-packages (from flask>=1.0.2->allennlp) (2.10.1)\n",
            "Requirement already satisfied: itsdangerous>=0.24 in /usr/local/lib/python3.6/dist-packages (from flask>=1.0.2->allennlp) (1.1.0)\n",
            "Requirement already satisfied: Werkzeug>=0.15 in /usr/local/lib/python3.6/dist-packages (from flask>=1.0.2->allennlp) (0.16.0)\n",
            "Requirement already satisfied: jmespath<1.0.0,>=0.7.1 in /usr/local/lib/python3.6/dist-packages (from boto3->allennlp) (0.9.4)\n",
            "Requirement already satisfied: botocore<1.13.0,>=1.12.236 in /usr/local/lib/python3.6/dist-packages (from boto3->allennlp) (1.12.236)\n",
            "Requirement already satisfied: s3transfer<0.3.0,>=0.2.0 in /usr/local/lib/python3.6/dist-packages (from boto3->allennlp) (0.2.1)\n",
            "Collecting regex (from pytorch-pretrained-bert>=0.6.0->allennlp)\n",
            "\u001b[?25l  Downloading https://files.pythonhosted.org/packages/6f/a6/99eeb5904ab763db87af4bd71d9b1dfdd9792681240657a4c0a599c10a81/regex-2019.08.19.tar.gz (654kB)\n",
            "\u001b[K     |████████████████████████████████| 655kB 45.1MB/s \n",
            "\u001b[?25hRequirement already satisfied: setuptools in /usr/local/lib/python3.6/dist-packages (from pytest->allennlp) (41.2.0)\n",
            "Requirement already satisfied: atomicwrites>=1.0 in /usr/local/lib/python3.6/dist-packages (from pytest->allennlp) (1.3.0)\n",
            "Requirement already satisfied: py>=1.5.0 in /usr/local/lib/python3.6/dist-packages (from pytest->allennlp) (1.8.0)\n",
            "Requirement already satisfied: pluggy<0.8,>=0.5 in /usr/local/lib/python3.6/dist-packages (from pytest->allennlp) (0.7.1)\n",
            "Requirement already satisfied: attrs>=17.4.0 in /usr/local/lib/python3.6/dist-packages (from pytest->allennlp) (19.1.0)\n",
            "Requirement already satisfied: more-itertools>=4.0.0 in /usr/local/lib/python3.6/dist-packages (from pytest->allennlp) (7.2.0)\n",
            "Requirement already satisfied: cymem<2.1.0,>=2.0.2 in /usr/local/lib/python3.6/dist-packages (from spacy<2.2,>=2.1.0->allennlp) (2.0.2)\n",
            "Requirement already satisfied: murmurhash<1.1.0,>=0.28.0 in /usr/local/lib/python3.6/dist-packages (from spacy<2.2,>=2.1.0->allennlp) (1.0.2)\n",
            "Requirement already satisfied: thinc<7.1.0,>=7.0.8 in /usr/local/lib/python3.6/dist-packages (from spacy<2.2,>=2.1.0->allennlp) (7.0.8)\n",
            "Requirement already satisfied: blis<0.3.0,>=0.2.2 in /usr/local/lib/python3.6/dist-packages (from spacy<2.2,>=2.1.0->allennlp) (0.2.4)\n",
            "Requirement already satisfied: plac<1.0.0,>=0.9.6 in /usr/local/lib/python3.6/dist-packages (from spacy<2.2,>=2.1.0->allennlp) (0.9.6)\n",
            "Requirement already satisfied: srsly<1.1.0,>=0.0.6 in /usr/local/lib/python3.6/dist-packages (from spacy<2.2,>=2.1.0->allennlp) (0.1.0)\n",
            "Requirement already satisfied: preshed<2.1.0,>=2.0.1 in /usr/local/lib/python3.6/dist-packages (from spacy<2.2,>=2.1.0->allennlp) (2.0.1)\n",
            "Requirement already satisfied: wasabi<1.1.0,>=0.2.0 in /usr/local/lib/python3.6/dist-packages (from spacy<2.2,>=2.1.0->allennlp) (0.2.2)\n",
            "Requirement already satisfied: protobuf>=3.2.0 in /usr/local/lib/python3.6/dist-packages (from tensorboardX>=1.2->allennlp) (3.7.1)\n",
            "Requirement already satisfied: wcwidth in /usr/local/lib/python3.6/dist-packages (from ftfy->allennlp) (0.1.7)\n",
            "Requirement already satisfied: sphinx>=1.6.5 in /usr/local/lib/python3.6/dist-packages (from numpydoc>=0.8.0->allennlp) (1.8.5)\n",
            "Collecting sentencepiece (from pytorch-transformers==1.1.0->allennlp)\n",
            "\u001b[?25l  Downloading https://files.pythonhosted.org/packages/14/3d/efb655a670b98f62ec32d66954e1109f403db4d937c50d779a75b9763a29/sentencepiece-0.1.83-cp36-cp36m-manylinux1_x86_64.whl (1.0MB)\n",
            "\u001b[K     |████████████████████████████████| 1.0MB 25.4MB/s \n",
            "\u001b[?25hRequirement already satisfied: greenlet>=0.4.14; platform_python_implementation == \"CPython\" in /usr/local/lib/python3.6/dist-packages (from gevent>=1.3.6->allennlp) (0.4.15)\n",
            "Requirement already satisfied: MarkupSafe>=0.23 in /usr/local/lib/python3.6/dist-packages (from Jinja2>=2.10.1->flask>=1.0.2->allennlp) (1.1.1)\n",
            "Requirement already satisfied: docutils<0.16,>=0.10 in /usr/local/lib/python3.6/dist-packages (from botocore<1.13.0,>=1.12.236->boto3->allennlp) (0.15.2)\n",
            "Requirement already satisfied: alabaster<0.8,>=0.7 in /usr/local/lib/python3.6/dist-packages (from sphinx>=1.6.5->numpydoc>=0.8.0->allennlp) (0.7.12)\n",
            "Requirement already satisfied: babel!=2.0,>=1.3 in /usr/local/lib/python3.6/dist-packages (from sphinx>=1.6.5->numpydoc>=0.8.0->allennlp) (2.7.0)\n",
            "Requirement already satisfied: Pygments>=2.0 in /usr/local/lib/python3.6/dist-packages (from sphinx>=1.6.5->numpydoc>=0.8.0->allennlp) (2.1.3)\n",
            "Requirement already satisfied: snowballstemmer>=1.1 in /usr/local/lib/python3.6/dist-packages (from sphinx>=1.6.5->numpydoc>=0.8.0->allennlp) (1.9.1)\n",
            "Requirement already satisfied: sphinxcontrib-websupport in /usr/local/lib/python3.6/dist-packages (from sphinx>=1.6.5->numpydoc>=0.8.0->allennlp) (1.1.2)\n",
            "Requirement already satisfied: imagesize in /usr/local/lib/python3.6/dist-packages (from sphinx>=1.6.5->numpydoc>=0.8.0->allennlp) (1.1.0)\n",
            "Requirement already satisfied: packaging in /usr/local/lib/python3.6/dist-packages (from sphinx>=1.6.5->numpydoc>=0.8.0->allennlp) (19.2)\n",
            "Building wheels for collected packages: overrides, ftfy, word2number, numpydoc, parsimonious, jsonnet, regex\n",
            "  Building wheel for overrides (setup.py) ... \u001b[?25l\u001b[?25hdone\n",
            "  Created wheel for overrides: filename=overrides-1.9-cp36-none-any.whl size=4214 sha256=06b8ad3b86604b1277d217d60be4a7d023c622507b203b75e26049d7c941507f\n",
            "  Stored in directory: /root/.cache/pip/wheels/8d/52/86/e5a83b1797e7d263b458d2334edd2704c78508b3eea9323718\n",
            "  Building wheel for ftfy (setup.py) ... \u001b[?25l\u001b[?25hdone\n",
            "  Created wheel for ftfy: filename=ftfy-5.6-cp36-none-any.whl size=44553 sha256=5d7d04976b520bc09cc41387d8e0bd03a1f93125af1989303eb62c5d975d29a1\n",
            "  Stored in directory: /root/.cache/pip/wheels/43/34/ce/cbb38d71543c408de56f3c5e26ce8ba495a0fa5a28eaaf1046\n",
            "  Building wheel for word2number (setup.py) ... \u001b[?25l\u001b[?25hdone\n",
            "  Created wheel for word2number: filename=word2number-1.1-cp36-none-any.whl size=5588 sha256=f60ce20311b8ed68f5fceac616a81515a3809156655a597f20962cc3e93f059e\n",
            "  Stored in directory: /root/.cache/pip/wheels/46/2f/53/5f5c1d275492f2fce1cdab9a9bb12d49286dead829a4078e0e\n",
            "  Building wheel for numpydoc (setup.py) ... \u001b[?25l\u001b[?25hdone\n",
            "  Created wheel for numpydoc: filename=numpydoc-0.9.1-cp36-none-any.whl size=31872 sha256=bd902e4da2b6051d25f28d111bc3928c53fdd0605516cac7983daea052d6dbf2\n",
            "  Stored in directory: /root/.cache/pip/wheels/51/30/d1/92a39ba40f21cb70e53f8af96eb98f002a781843c065406500\n",
            "  Building wheel for parsimonious (setup.py) ... \u001b[?25l\u001b[?25hdone\n",
            "  Created wheel for parsimonious: filename=parsimonious-0.8.1-cp36-none-any.whl size=42709 sha256=2f9e17c5d9e348493739bfc555fae025f926f41d65caf10eeeb3ff5e724125ac\n",
            "  Stored in directory: /root/.cache/pip/wheels/b7/8d/e7/a0e74217da5caeb3c1c7689639b6d28ddbf9985b840bc96a9a\n",
            "  Building wheel for jsonnet (setup.py) ... \u001b[?25l\u001b[?25hdone\n",
            "  Created wheel for jsonnet: filename=jsonnet-0.14.0-cp36-cp36m-linux_x86_64.whl size=3320374 sha256=777b220d52789278b8c25c4ddaa3aa7ebface3fd289c86d92dc1799450bde673\n",
            "  Stored in directory: /root/.cache/pip/wheels/5b/b7/83/985f0f758fbb34f14989a0fab86d18890d1cc5ae12f26967bc\n",
            "  Building wheel for regex (setup.py) ... \u001b[?25l\u001b[?25hdone\n",
            "  Created wheel for regex: filename=regex-2019.8.19-cp36-cp36m-linux_x86_64.whl size=609232 sha256=c1db261da3f3319c56016e17a70b273887b684232e3d46a0bc9cefbfe652c62a\n",
            "  Stored in directory: /root/.cache/pip/wheels/90/04/07/b5010fb816721eb3d6dd64ed5cc8111ca23f97fdab8619b5be\n",
            "Successfully built overrides ftfy word2number numpydoc parsimonious jsonnet regex\n",
            "Installing collected packages: flaky, jsonpickle, regex, pytorch-pretrained-bert, conllu, overrides, tensorboardX, ftfy, word2number, flask-cors, numpydoc, sentencepiece, pytorch-transformers, parsimonious, jsonnet, unidecode, responses, allennlp\n",
            "Successfully installed allennlp-0.9.0 conllu-1.3.1 flaky-3.6.1 flask-cors-3.0.8 ftfy-5.6 jsonnet-0.14.0 jsonpickle-1.2 numpydoc-0.9.1 overrides-1.9 parsimonious-0.8.1 pytorch-pretrained-bert-0.6.2 pytorch-transformers-1.1.0 regex-2019.8.19 responses-0.10.6 sentencepiece-0.1.83 tensorboardX-1.8 unidecode-1.1.1 word2number-1.1\n"
          ],
          "name": "stdout"
        }
      ]
    },
    {
      "cell_type": "code",
      "metadata": {
        "id": "Z2iKnVYODw-3",
        "colab_type": "code",
        "colab": {}
      },
      "source": [
        "from matplotlib import pyplot as plt\n",
        "from collections import OrderedDict\n",
        "\n",
        "import numpy as np\n",
        "from allennlp.commands.elmo import ElmoEmbedder\n",
        "from sklearn.decomposition import PCA\n",
        "\n",
        "%matplotlib inline"
      ],
      "execution_count": 0,
      "outputs": []
    },
    {
      "cell_type": "code",
      "metadata": {
        "id": "IEEw1dQghQvd",
        "colab_type": "code",
        "colab": {}
      },
      "source": [
        "\n",
        "class Elmo:\n",
        "    def __init__(self):\n",
        "        self.elmo = ElmoEmbedder()\n",
        "\n",
        "    # Append each word vector into a matrix\n",
        "    def get_elmo_vector(self, tokens, layer):\n",
        "        vectors = self.elmo.embed_sentence(tokens)\n",
        "        X = []\n",
        "        for vector in vectors[layer]:\n",
        "            X.append(vector)\n",
        "\n",
        "        X = np.array(X)\n",
        "\n",
        "        return X\n",
        "\n",
        "\n",
        "def dim_reduction(X, n):\n",
        "    pca = PCA(n_components=n)\n",
        "    print(\"size of X: {}\".format(X.shape))\n",
        "    results = pca.fit_transform(X)\n",
        "    print(\"size of reduced X: {}\".format(results.shape))\n",
        "\n",
        "    for i, ratio in enumerate(pca.explained_variance_ratio_):\n",
        "        print(\"Variance retained ratio of PCA-{}: {}\".format(i+1, ratio))\n",
        "\n",
        "    return results\n",
        "\n",
        "\n",
        "def plot(word, token_list, reduced_X, file_name, title):\n",
        "    import matplotlib.pyplot as plt\n",
        "    fig, ax = plt.subplots()\n",
        "\n",
        "    # plot ELMo vectors\n",
        "    i = 0\n",
        "    for j, token in enumerate(token_list):\n",
        "        color = pick_color(j)\n",
        "        for _, w in enumerate(token):\n",
        "\n",
        "            # only plot the word of interest\n",
        "            if w.lower() in [word, word + 's', word + 'ing', word + 'ed']:\n",
        "                ax.plot(reduced_X[i, 0], reduced_X[i, 1], color)\n",
        "            i += 1\n",
        "\n",
        "    tokens = []\n",
        "    for token in token_list:\n",
        "        tokens += token\n",
        "\n",
        "    # annotate point\n",
        "    k = 0\n",
        "    for i, token in enumerate(tokens):\n",
        "        if token.lower() in [word, word + 's', word + 'ing', word + 'ed']:\n",
        "            text = ' '.join(token_list[k])\n",
        "\n",
        "            # bold the word of interest in the sentence\n",
        "            text = text.replace(token, r\"$\\bf{\" + token + \"}$\")\n",
        "\n",
        "            plt.annotate(text, xy=(reduced_X[i, 0], reduced_X[i, 1]))\n",
        "            k += 1\n",
        "\n",
        "    ax.set_title(title)\n",
        "    ax.set_xlabel(\"PCA 1\")\n",
        "    ax.set_ylabel(\"PCA 2\")\n",
        "    fig.savefig(file_name, bbox_inches=\"tight\")\n",
        "\n",
        "    print(\"{} saved\\n\".format(file_name))\n",
        "\n",
        "\n",
        "def pick_color(i):\n",
        "    if i == 0:\n",
        "        color = 'ro'\n",
        "    elif i == 1:\n",
        "        color = 'bo'\n",
        "    elif i == 2:\n",
        "        color = 'yo'\n",
        "    elif i == 3:\n",
        "        color = 'go'\n",
        "    else:\n",
        "        color = 'co'\n",
        "    return color\n"
      ],
      "execution_count": 0,
      "outputs": []
    },
    {
      "cell_type": "code",
      "metadata": {
        "id": "hXGddOOxhSXR",
        "colab_type": "code",
        "colab": {
          "base_uri": "https://localhost:8080/",
          "height": 104
        },
        "outputId": "9d9297f3-9dd8-4925-b40d-f1485e4a98ca"
      },
      "source": [
        "model = Elmo()\n",
        "\n",
        "banks = OrderedDict()\n",
        "banks[0] = \"One can deposit money at the bank\"\n",
        "banks[1] = \"He had a nice walk along the river bank\"\n",
        "banks[2] = \"I withdrew cash from the bank\"\n",
        "banks[3] = \"The river bank was not clean\"\n",
        "banks[4] = \"My wife and I have a joint bank account\"\n",
        "\n",
        "cans = OrderedDict()\n",
        "cans[0] = \"One can deposit money at the bank\"\n",
        "cans[1] = \"I have a can of coke\"\n",
        "cans[2] = \"I can take care of myself\"\n",
        "cans[3] = \"You'll need a can of tuna for this recipe.\"\n",
        "cans[4] = \"He works in a factory where they can fruit.\"\n",
        "\n",
        "\n",
        "\n",
        "\n",
        "# works = OrderedDict()\n",
        "# works[0] = \"I like this beautiful work by Andy Warhol\"\n",
        "# works[1] = \"Employee works hard every day\"\n",
        "# works[2] = \"My sister works at Starbucks\"\n",
        "# works[3] = \"This amazing work was done in the early nineteenth century\"\n",
        "# works[4] = \"Hundreds of people work in this building\"\n",
        "\n",
        "# plants = OrderedDict()\n",
        "# plants[0] = \"The gardener planted some trees in my yard\"\n",
        "# plants[1] = \"I plan to plant a Joshua tree tomorrow\"\n",
        "# plants[2] = \"My sister planted a seed and hopes it will grow to a tree\"\n",
        "# plants[3] = \"This kind of plant only grows in the subtropical region\"\n",
        "# plants[4] = \"Most of the plants will die without water\"\n",
        "\n",
        "# words = {\n",
        "# \"bank\": banks,\n",
        "# \"work\": works,\n",
        "# \"plant\": plants\n",
        "# }\n",
        "\n",
        "# contextual vectors for ELMo layer 1 and 2\n",
        "#for layer in [1, 2]:\n",
        "layer = 1 \n",
        "  #for word, sentences in words.items():\n",
        "word = 'can'\n",
        "sentences = cans\n",
        "print(\"visualizing word {} using ELMo layer {}\".format(word, layer))\n",
        "X = np.concatenate([model.get_elmo_vector(tokens=sentences[idx].split(),\n",
        "                                          layer=layer)\n",
        "                    for idx, _ in enumerate(sentences)], axis=0)\n",
        "\n",
        "# The first 2 principal components\n",
        "X_reduce = dim_reduction(X=X, n=2)\n",
        "\n",
        "token_list = [] #[[w11,...,w1n], [w21,...,w2n],...,[w51,...,w5n]]\n",
        "for _, sentence in sentences.items():\n",
        "    token_list.append(sentence.split())\n",
        "\n",
        "file_name = \"{}_elmo_layer_{}.png\".format(word, layer)\n",
        "title = \"Layer {} ELMo vectors of the word {}\".format(layer, word)\n",
        "#plot(word, token_list, X_reduce, file_name, title)\n"
      ],
      "execution_count": 68,
      "outputs": [
        {
          "output_type": "stream",
          "text": [
            "visualizing word can using ELMo layer 1\n",
            "size of X: (37, 1024)\n",
            "size of reduced X: (37, 2)\n",
            "Variance retained ratio of PCA-1: 0.08478674292564392\n",
            "Variance retained ratio of PCA-2: 0.0785316750407219\n"
          ],
          "name": "stdout"
        }
      ]
    },
    {
      "cell_type": "code",
      "metadata": {
        "id": "akvTHwRvsazi",
        "colab_type": "code",
        "colab": {
          "base_uri": "https://localhost:8080/",
          "height": 34
        },
        "outputId": "fe654601-b8da-44f1-e4d9-bc49b6f75ec6"
      },
      "source": [
        "len(token_list)"
      ],
      "execution_count": 57,
      "outputs": [
        {
          "output_type": "execute_result",
          "data": {
            "text/plain": [
              "5"
            ]
          },
          "metadata": {
            "tags": []
          },
          "execution_count": 57
        }
      ]
    },
    {
      "cell_type": "code",
      "metadata": {
        "id": "VtRaIAPOsOkk",
        "colab_type": "code",
        "colab": {
          "base_uri": "https://localhost:8080/",
          "height": 315
        },
        "outputId": "5e547091-4f3f-415b-88e4-8e097e62b0e2"
      },
      "source": [
        "fig, ax = plt.subplots()\n",
        "\n",
        "# plot ELMo vectors\n",
        "i = 0 #token_id\n",
        "for j, token in enumerate(token_list):\n",
        "    color = pick_color(j)\n",
        "    for _, w in enumerate(token):\n",
        "\n",
        "        # only plot the word of interest\n",
        "        if w.lower() in [word, word + 's', word + 'ing', word + 'ed']:\n",
        "            ax.plot(X_reduce[i, 0], X_reduce[i, 1], color)\n",
        "        i += 1\n",
        "\n",
        "tokens = [] #flatten token_list\n",
        "for token in token_list:\n",
        "    tokens += token\n",
        "    \n",
        "    \n",
        "# annotate point\n",
        "k = 0\n",
        "for i, token in enumerate(tokens):\n",
        "    if token.lower() in [word, word + 's', word + 'ing', word + 'ed']:\n",
        "        text = ' '.join(token_list[k])\n",
        "\n",
        "        # bold the word of interest in the sentence\n",
        "        text = text.replace(token, r\"$\\bf{\" + token + \"}$\")\n",
        "\n",
        "        plt.annotate(text, xy=(X_reduce[i, 0], X_reduce[i, 1]))\n",
        "        k += 1\n",
        "\n",
        "ax.set_title(title)\n",
        "ax.set_xlabel(\"PCA 1\")\n",
        "ax.set_ylabel(\"PCA 2\")\n",
        "#fig.savefig(file_name, bbox_inches=\"tight\")\n",
        "plt.show()"
      ],
      "execution_count": 69,
      "outputs": [
        {
          "output_type": "display_data",
          "data": {
            "image/png": "[encoded data removed]",
            "text/plain": [
              "<Figure size 432x288 with 1 Axes>"
            ]
          },
          "metadata": {
            "tags": []
          }
        }
      ]
    },
    {
      "cell_type": "code",
      "metadata": {
        "id": "MXdD9Sf_tcYT",
        "colab_type": "code",
        "colab": {
          "base_uri": "https://localhost:8080/",
          "height": 837
        },
        "outputId": "b4c674de-90fe-4d55-9d3a-c6e7467b73a2"
      },
      "source": [
        "for layer in [1, 2]:\n",
        "        #for word, sentences in words.items():\n",
        "        print(\"visualizing word {} using ELMo layer {}\".format(word, layer))\n",
        "        X = np.concatenate([model.get_elmo_vector(tokens=sentences[idx].split(),\n",
        "                                                  layer=layer)\n",
        "                            for idx, _ in enumerate(sentences)], axis=0)\n",
        "\n",
        "        # The first 2 principal components\n",
        "        X_reduce = dim_reduction(X=X, n=2)\n",
        "\n",
        "        token_list = []\n",
        "        for _, sentence in sentences.items():\n",
        "            token_list.append(sentence.split())\n",
        "\n",
        "        file_name = \"{}_elmo_layer_{}.png\".format(word, layer)\n",
        "        title = \"Layer {} ELMo vectors of the word {}\".format(layer, word)\n",
        "        plot(word, token_list, X_reduce, file_name, title)"
      ],
      "execution_count": 70,
      "outputs": [
        {
          "output_type": "stream",
          "text": [
            "visualizing word can using ELMo layer 1\n",
            "size of X: (37, 1024)\n",
            "size of reduced X: (37, 2)\n",
            "Variance retained ratio of PCA-1: 0.0847882404923439\n",
            "Variance retained ratio of PCA-2: 0.07860555499792099\n",
            "can_elmo_layer_1.png saved\n",
            "\n",
            "visualizing word can using ELMo layer 2\n",
            "size of X: (37, 1024)\n",
            "size of reduced X: (37, 2)\n",
            "Variance retained ratio of PCA-1: 0.09735950082540512\n",
            "Variance retained ratio of PCA-2: 0.08093512058258057\n",
            "can_elmo_layer_2.png saved\n",
            "\n"
          ],
          "name": "stdout"
        },
        {
          "output_type": "display_data",
          "data": {
            "image/png": "[encoded data removed]",
            "text/plain": [
              "<Figure size 432x288 with 1 Axes>"
            ]
          },
          "metadata": {
            "tags": []
          }
        },
        {
          "output_type": "display_data",
          "data": {
            "image/png": "[encoded data removed]",
            "text/plain": [
              "<Figure size 432x288 with 1 Axes>"
            ]
          },
          "metadata": {
            "tags": []
          }
        }
      ]
    }
  ]
}